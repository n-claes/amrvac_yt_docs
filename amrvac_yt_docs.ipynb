{
 "cells": [
  {
   "cell_type": "markdown",
   "metadata": {},
   "source": [
    "# MPI-AMRVAC dataset analysis with yt"
   ]
  },
  {
   "cell_type": "markdown",
   "metadata": {},
   "source": [
    "This notebook contains examples and instructions specific to the MPI-AMRVAC frontend in yt. \n",
    "\n",
    "For a (much) more detailed guide we refer to [the yt cookbook](https://yt-project.org/doc/cookbook/index.html). An overview of the latest news and updates regarding our frontend can be found on [the AMRVAC website](http://amrvac.org/md_doc_yt_usage.html).\n",
    "\n",
    "Niels Claes and Clément Robert are the current maintainers of both this notebook and the AMRVAC frontend. If you have any ideas or requests for stuff to add here, feel free to contact us. If you encounter issues or bugs regarding the frontend itself, send us a message through the [yt Slack](https://yt-project.org/doc/help/index.html#go-on-slack-or-irc-to-ask-a-question) (we have a dedicated **#amrvac** channel) or file [an issue on GitHub](https://github.com/yt-project/yt/issues).\n",
    "\n",
    "Please make sure to mention the AMRVAC frontend in the header, and feel free to ping either Niels ([@n-claes](https://github.com/n-claes)) or Clément ([@neutrinoceros](https://github.com/neutrinoceros)) in the issue description!"
   ]
  },
  {
   "cell_type": "code",
   "execution_count": null,
   "metadata": {},
   "outputs": [],
   "source": []
  },
  {
   "cell_type": "code",
   "execution_count": null,
   "metadata": {},
   "outputs": [],
   "source": []
  },
  {
   "cell_type": "code",
   "execution_count": null,
   "metadata": {},
   "outputs": [],
   "source": []
  },
  {
   "cell_type": "code",
   "execution_count": null,
   "metadata": {},
   "outputs": [],
   "source": []
  },
  {
   "cell_type": "code",
   "execution_count": null,
   "metadata": {},
   "outputs": [],
   "source": []
  }
 ],
 "metadata": {
  "kernelspec": {
   "display_name": "Python 3",
   "language": "python",
   "name": "python3"
  },
  "language_info": {
   "codemirror_mode": {
    "name": "ipython",
    "version": 3
   },
   "file_extension": ".py",
   "mimetype": "text/x-python",
   "name": "python",
   "nbconvert_exporter": "python",
   "pygments_lexer": "ipython3",
   "version": "3.7.6"
  }
 },
 "nbformat": 4,
 "nbformat_minor": 4
}
